{
  "nbformat": 4,
  "nbformat_minor": 0,
  "metadata": {
    "colab": {
      "provenance": [],
      "gpuType": "T4"
    },
    "kernelspec": {
      "name": "python3",
      "display_name": "Python 3"
    },
    "language_info": {
      "name": "python"
    },
    "accelerator": "GPU"
  },
  "cells": [
    {
      "cell_type": "markdown",
      "source": [
        "# **Read dataset**"
      ],
      "metadata": {
        "id": "oqWjTP1x1UN9"
      }
    },
    {
      "cell_type": "code",
      "execution_count": 7,
      "metadata": {
        "colab": {
          "base_uri": "https://localhost:8080/"
        },
        "id": "J7fobSC_uvW8",
        "outputId": "87a8cbc8-31cc-48e1-f8c5-490c967b25a6"
      },
      "outputs": [
        {
          "output_type": "stream",
          "name": "stdout",
          "text": [
            "Cloning into 'ai-digital-agent'...\n",
            "remote: Enumerating objects: 28, done.\u001b[K\n",
            "remote: Counting objects:   3% (1/28)\u001b[K\rremote: Counting objects:   7% (2/28)\u001b[K\rremote: Counting objects:  10% (3/28)\u001b[K\rremote: Counting objects:  14% (4/28)\u001b[K\rremote: Counting objects:  17% (5/28)\u001b[K\rremote: Counting objects:  21% (6/28)\u001b[K\rremote: Counting objects:  25% (7/28)\u001b[K\rremote: Counting objects:  28% (8/28)\u001b[K\rremote: Counting objects:  32% (9/28)\u001b[K\rremote: Counting objects:  35% (10/28)\u001b[K\rremote: Counting objects:  39% (11/28)\u001b[K\rremote: Counting objects:  42% (12/28)\u001b[K\rremote: Counting objects:  46% (13/28)\u001b[K\rremote: Counting objects:  50% (14/28)\u001b[K\rremote: Counting objects:  53% (15/28)\u001b[K\rremote: Counting objects:  57% (16/28)\u001b[K\rremote: Counting objects:  60% (17/28)\u001b[K\rremote: Counting objects:  64% (18/28)\u001b[K\rremote: Counting objects:  67% (19/28)\u001b[K\rremote: Counting objects:  71% (20/28)\u001b[K\rremote: Counting objects:  75% (21/28)\u001b[K\rremote: Counting objects:  78% (22/28)\u001b[K\rremote: Counting objects:  82% (23/28)\u001b[K\rremote: Counting objects:  85% (24/28)\u001b[K\rremote: Counting objects:  89% (25/28)\u001b[K\rremote: Counting objects:  92% (26/28)\u001b[K\rremote: Counting objects:  96% (27/28)\u001b[K\rremote: Counting objects: 100% (28/28)\u001b[K\rremote: Counting objects: 100% (28/28), done.\u001b[K\n",
            "remote: Compressing objects:   3% (1/26)\u001b[K\rremote: Compressing objects:   7% (2/26)\u001b[K\rremote: Compressing objects:  11% (3/26)\u001b[K\rremote: Compressing objects:  15% (4/26)\u001b[K\rremote: Compressing objects:  19% (5/26)\u001b[K\rremote: Compressing objects:  23% (6/26)\u001b[K\rremote: Compressing objects:  26% (7/26)\u001b[K\rremote: Compressing objects:  30% (8/26)\u001b[K\rremote: Compressing objects:  34% (9/26)\u001b[K\rremote: Compressing objects:  38% (10/26)\u001b[K\rremote: Compressing objects:  42% (11/26)\u001b[K\rremote: Compressing objects:  46% (12/26)\u001b[K\rremote: Compressing objects:  50% (13/26)\u001b[K\rremote: Compressing objects:  53% (14/26)\u001b[K\rremote: Compressing objects:  57% (15/26)\u001b[K\rremote: Compressing objects:  61% (16/26)\u001b[K\rremote: Compressing objects:  65% (17/26)\u001b[K\rremote: Compressing objects:  69% (18/26)\u001b[K\rremote: Compressing objects:  73% (19/26)\u001b[K\rremote: Compressing objects:  76% (20/26)\u001b[K\rremote: Compressing objects:  80% (21/26)\u001b[K\rremote: Compressing objects:  84% (22/26)\u001b[K\rremote: Compressing objects:  88% (23/26)\u001b[K\rremote: Compressing objects:  92% (24/26)\u001b[K\rremote: Compressing objects:  96% (25/26)\u001b[K\rremote: Compressing objects: 100% (26/26)\u001b[K\rremote: Compressing objects: 100% (26/26), done.\u001b[K\n",
            "Receiving objects:   3% (1/28)\rReceiving objects:   7% (2/28)\rReceiving objects:  10% (3/28)\rReceiving objects:  14% (4/28)\rReceiving objects:  17% (5/28)\rReceiving objects:  21% (6/28)\rReceiving objects:  25% (7/28)\rReceiving objects:  28% (8/28)\rReceiving objects:  32% (9/28)\rReceiving objects:  35% (10/28)\rReceiving objects:  39% (11/28)\rremote: Total 28 (delta 6), reused 6 (delta 0), pack-reused 0\u001b[K\n",
            "Receiving objects:  42% (12/28)\rReceiving objects:  46% (13/28)\rReceiving objects:  50% (14/28)\rReceiving objects:  53% (15/28)\rReceiving objects:  57% (16/28)\rReceiving objects:  60% (17/28)\rReceiving objects:  64% (18/28)\rReceiving objects:  67% (19/28)\rReceiving objects:  71% (20/28)\rReceiving objects:  75% (21/28)\rReceiving objects:  78% (22/28)\rReceiving objects:  82% (23/28)\rReceiving objects:  85% (24/28)\rReceiving objects:  89% (25/28)\rReceiving objects:  92% (26/28)\rReceiving objects:  96% (27/28)\rReceiving objects: 100% (28/28)\rReceiving objects: 100% (28/28), 9.74 KiB | 9.74 MiB/s, done.\n",
            "Resolving deltas:   0% (0/6)\rResolving deltas:  16% (1/6)\rResolving deltas:  33% (2/6)\rResolving deltas:  50% (3/6)\rResolving deltas:  66% (4/6)\rResolving deltas:  83% (5/6)\rResolving deltas: 100% (6/6)\rResolving deltas: 100% (6/6), done.\n"
          ]
        }
      ],
      "source": [
        "!git clone \"https://github.com/mason-chase/ai-digital-agent.git\""
      ]
    },
    {
      "cell_type": "code",
      "source": [
        "cd /content/ai-digital-agent"
      ],
      "metadata": {
        "colab": {
          "base_uri": "https://localhost:8080/"
        },
        "id": "eAWWQGwp1hct",
        "outputId": "d94ac273-cc84-48e4-dbec-8c2e8cd8e021"
      },
      "execution_count": 8,
      "outputs": [
        {
          "output_type": "stream",
          "name": "stdout",
          "text": [
            "/content/ai-digital-agent\n"
          ]
        }
      ]
    },
    {
      "cell_type": "code",
      "source": [
        "ls"
      ],
      "metadata": {
        "colab": {
          "base_uri": "https://localhost:8080/"
        },
        "id": "L5BC244d1jdM",
        "outputId": "e2e8435a-f851-4a8f-83cf-2e5cc5417496"
      },
      "execution_count": 9,
      "outputs": [
        {
          "output_type": "stream",
          "name": "stdout",
          "text": [
            "\u001b[0m\u001b[01;34mai-digital-agent\u001b[0m/  \u001b[01;34mdataset\u001b[0m/  README.md\n"
          ]
        }
      ]
    },
    {
      "cell_type": "code",
      "source": [
        "import json\n",
        "\n",
        "# Load and preprocess knowledge-base.md\n",
        "with open('/content/ai-digital-agent/dataset/knowledge-base.md', 'r') as file:\n",
        "    knowledge_base = file.read()"
      ],
      "metadata": {
        "id": "kp3QSUgh28hc"
      },
      "execution_count": 10,
      "outputs": []
    }
  ]
}